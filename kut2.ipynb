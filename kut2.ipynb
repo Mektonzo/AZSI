{
 "cells": [
  {
   "cell_type": "markdown",
   "metadata": {
    "colab_type": "text",
    "id": "view-in-github"
   },
   "source": [
    "<a href=\"https://colab.research.google.com/github/PheOrlya/Orlyansky-Vladislav-Egenevich-prz-2/blob/main/%D0%90%D0%97%D0%A1%D0%98%D0%98_%D0%9E%D1%80%D0%BB%D1%8F%D0%BD%D1%81%D0%BA%D0%B8%D0%B9_%D0%BF%D1%802.ipynb\" target=\"_parent\"><img src=\"https://colab.research.google.com/assets/colab-badge.svg\" alt=\"Open In Colab\"/></a>"
   ]
  },
  {
   "cell_type": "markdown",
   "metadata": {
    "id": "i3ulw72gRi_P"
   },
   "source": [
    "1) Скопировать проект по ссылке в локальную среду выполнения Jupyter (Google Colab)"
   ]
  },
  {
   "cell_type": "code",
   "execution_count": 1,
   "metadata": {
    "colab": {
     "base_uri": "https://localhost:8080/"
    },
    "id": "dL9Uu_e5QTaf",
    "outputId": "e61b9f1f-e8d3-4cab-c475-67493d1556ce"
   },
   "outputs": [
    {
     "name": "stdout",
     "output_type": "stream",
     "text": [
      "Cloning into 'EEL6812_DeepFool_Project'...\n",
      "remote: Enumerating objects: 96, done.\u001b[K\n",
      "remote: Counting objects: 100% (3/3), done.\u001b[K\n",
      "remote: Compressing objects: 100% (2/2), done.\u001b[K\n",
      "remote: Total 96 (delta 2), reused 1 (delta 1), pack-reused 93\u001b[K\n",
      "Receiving objects: 100% (96/96), 33.99 MiB | 32.62 MiB/s, done.\n",
      "Resolving deltas: 100% (27/27), done.\n"
     ]
    }
   ],
   "source": [
    "!git clone https://github.com/ewatson2/EEL6812_DeepFool_Project.git"
   ]
  },
  {
   "cell_type": "markdown",
   "metadata": {
    "id": "NVfpWXg2Rp3d"
   },
   "source": [
    "2) Сменить директорию исполнения на вновь созданную папку \"EEL6812_DeepFool_Project\" проекта."
   ]
  },
  {
   "cell_type": "code",
   "execution_count": 2,
   "metadata": {
    "colab": {
     "base_uri": "https://localhost:8080/"
    },
    "id": "kPmBj5CYQnn1",
    "outputId": "f21d68be-fd4a-4e36-fcbf-bf140bf3e6db"
   },
   "outputs": [
    {
     "name": "stdout",
     "output_type": "stream",
     "text": [
      "/content/EEL6812_DeepFool_Project\n",
      "/content/EEL6812_DeepFool_Project\n"
     ]
    }
   ],
   "source": [
    "%cd /content/EEL6812_DeepFool_Project\n",
    "!pwd"
   ]
  },
  {
   "cell_type": "markdown",
   "metadata": {
    "id": "qhkF2wD6RzKG"
   },
   "source": [
    "3) Выполнить импорт библиотек\n",
    "\n",
    "4) Выполнить импорт вспомогательных библиотек из локальных файлов проекта"
   ]
  },
  {
   "cell_type": "code",
   "execution_count": 3,
   "metadata": {
    "id": "tUen4y9hQqeH"
   },
   "outputs": [],
   "source": [
    "import numpy as np\n",
    "import json, torch\n",
    "import os\n",
    "from torch.utils.data import DataLoader, random_split\n",
    "from torchvision import datasets, models\n",
    "from torchvision.transforms import transforms\n",
    "from models.project_models import FC_500_150, LeNet_CIFAR, LeNet_MNIST, Net\n",
    "from utils.project_utils import get_clip_bounds, evaluate_attack, display_attack"
   ]
  },
  {
   "cell_type": "markdown",
   "metadata": {
    "id": "TSgQSiSISVB1"
   },
   "source": [
    "5) Установить случайное рандомное значение в виде переменной rand_seed={\"Порядковый\n",
    "номер ученика группы в Гугл-таблице\"} (Порядковый номер - 12)"
   ]
  },
  {
   "cell_type": "code",
   "execution_count": 4,
   "metadata": {
    "id": "JQA4tgr8Qywo"
   },
   "outputs": [],
   "source": [
    "rand_seed = 12\n",
    "np.random.seed(rand_seed)\n",
    "torch.manual_seed(rand_seed)\n",
    "\n",
    "use_cuda = torch.cuda.is_available()\n",
    "device = torch.device('cuda' if use_cuda else 'cpu')"
   ]
  },
  {
   "cell_type": "markdown",
   "metadata": {
    "id": "qBOAPCqVSeMh"
   },
   "source": [
    "6) Установить указанное значение для np.random.seed и torch.manual_seed\n",
    "\n",
    "7) Использовать в качестсве устройства видеокарту (Среды выполнения--> Сменить среду\n",
    "выполнения --> T4 GPU)\n",
    "\n",
    "8) Загрузить датасет MNIST c параметрами mnist_mean = 0.5, mnist_std = 0.5, mnist_dim = 28\n"
   ]
  },
  {
   "cell_type": "code",
   "execution_count": 5,
   "metadata": {
    "colab": {
     "base_uri": "https://localhost:8080/"
    },
    "id": "2s5ONAo5Q7Mx",
    "outputId": "324a3f44-15d2-4ae9-b35d-774bd088ca6c"
   },
   "outputs": [
    {
     "name": "stdout",
     "output_type": "stream",
     "text": [
      "Downloading http://yann.lecun.com/exdb/mnist/train-images-idx3-ubyte.gz\n",
      "Downloading http://yann.lecun.com/exdb/mnist/train-images-idx3-ubyte.gz to datasets/mnist/MNIST/raw/train-images-idx3-ubyte.gz\n"
     ]
    },
    {
     "name": "stderr",
     "output_type": "stream",
     "text": [
      "100%|██████████| 9912422/9912422 [00:00<00:00, 116260898.82it/s]\n"
     ]
    },
    {
     "name": "stdout",
     "output_type": "stream",
     "text": [
      "Extracting datasets/mnist/MNIST/raw/train-images-idx3-ubyte.gz to datasets/mnist/MNIST/raw\n",
      "\n",
      "Downloading http://yann.lecun.com/exdb/mnist/train-labels-idx1-ubyte.gz\n",
      "Downloading http://yann.lecun.com/exdb/mnist/train-labels-idx1-ubyte.gz to datasets/mnist/MNIST/raw/train-labels-idx1-ubyte.gz\n"
     ]
    },
    {
     "name": "stderr",
     "output_type": "stream",
     "text": [
      "100%|██████████| 28881/28881 [00:00<00:00, 108253524.42it/s]\n"
     ]
    },
    {
     "name": "stdout",
     "output_type": "stream",
     "text": [
      "Extracting datasets/mnist/MNIST/raw/train-labels-idx1-ubyte.gz to datasets/mnist/MNIST/raw\n",
      "\n",
      "Downloading http://yann.lecun.com/exdb/mnist/t10k-images-idx3-ubyte.gz\n",
      "Downloading http://yann.lecun.com/exdb/mnist/t10k-images-idx3-ubyte.gz to datasets/mnist/MNIST/raw/t10k-images-idx3-ubyte.gz\n"
     ]
    },
    {
     "name": "stderr",
     "output_type": "stream",
     "text": [
      "100%|██████████| 1648877/1648877 [00:00<00:00, 27182650.14it/s]\n"
     ]
    },
    {
     "name": "stdout",
     "output_type": "stream",
     "text": [
      "Extracting datasets/mnist/MNIST/raw/t10k-images-idx3-ubyte.gz to datasets/mnist/MNIST/raw\n",
      "\n",
      "Downloading http://yann.lecun.com/exdb/mnist/t10k-labels-idx1-ubyte.gz\n",
      "Downloading http://yann.lecun.com/exdb/mnist/t10k-labels-idx1-ubyte.gz to datasets/mnist/MNIST/raw/t10k-labels-idx1-ubyte.gz\n"
     ]
    },
    {
     "name": "stderr",
     "output_type": "stream",
     "text": [
      "100%|██████████| 4542/4542 [00:00<00:00, 19127036.92it/s]\n"
     ]
    },
    {
     "name": "stdout",
     "output_type": "stream",
     "text": [
      "Extracting datasets/mnist/MNIST/raw/t10k-labels-idx1-ubyte.gz to datasets/mnist/MNIST/raw\n",
      "\n"
     ]
    }
   ],
   "source": [
    "mnist_mean = 0.5\n",
    "mnist_std = 0.5\n",
    "mnist_dim = 28\n",
    "\n",
    "mnist_min, mnist_max = get_clip_bounds(mnist_mean,\n",
    "                                       mnist_std,\n",
    "                                       mnist_dim)\n",
    "mnist_min = mnist_min.to(device)\n",
    "mnist_max = mnist_max.to(device)\n",
    "\n",
    "mnist_tf = transforms.Compose([\n",
    "    transforms.ToTensor(),\n",
    "    transforms.Normalize(\n",
    "        mean=mnist_mean,\n",
    "        std=mnist_std)])\n",
    "\n",
    "mnist_tf_train = transforms.Compose([\n",
    "    transforms.RandomHorizontalFlip(),\n",
    "    transforms.ToTensor(),\n",
    "    transforms.Normalize(\n",
    "        mean=mnist_mean,\n",
    "        std=mnist_std)])\n",
    "\n",
    "mnist_tf_inv = transforms.Compose([\n",
    "    transforms.Normalize(\n",
    "        mean=0.0,\n",
    "        std=np.divide(1.0, mnist_std)),\n",
    "    transforms.Normalize(\n",
    "        mean=np.multiply(-1.0, mnist_std),\n",
    "        std=1.0)])\n",
    "\n",
    "mnist_temp = datasets.MNIST(root='datasets/mnist', train=True,\n",
    "                            download=True, transform=mnist_tf_train)\n",
    "mnist_train, mnist_val = random_split(mnist_temp, [50000, 10000])\n",
    "\n",
    "mnist_test = datasets.MNIST(root='datasets/mnist', train=False,\n",
    "                            download=True, transform=mnist_tf)\n",
    "\n",
    "cifar_classes = ['airplane', 'automobile', 'bird', 'cat', 'deer',\n",
    "                 'dog', 'frog', 'horse', 'ship', 'truck']"
   ]
  },
  {
   "cell_type": "markdown",
   "metadata": {
    "id": "9BCgtJEPSw4b"
   },
   "source": [
    "9) Загрузить датасет CIFAR-10 c параметрами\n",
    "\n",
    "cifar_mean = [0.491, 0.482, 0.447]\n",
    "\n",
    "cifar_std = [0.202,0.199, 0.201]\n",
    "\n",
    "cifar_dim = 32"
   ]
  },
  {
   "cell_type": "code",
   "execution_count": 6,
   "metadata": {
    "colab": {
     "base_uri": "https://localhost:8080/"
    },
    "id": "vyH9YGMzRC_8",
    "outputId": "348cf1e2-aca1-4246-bcd9-2fee75adeeb3"
   },
   "outputs": [
    {
     "name": "stdout",
     "output_type": "stream",
     "text": [
      "Downloading https://www.cs.toronto.edu/~kriz/cifar-10-python.tar.gz to datasets/cifar-10/cifar-10-python.tar.gz\n"
     ]
    },
    {
     "name": "stderr",
     "output_type": "stream",
     "text": [
      "100%|██████████| 170498071/170498071 [00:02<00:00, 77935553.62it/s]\n"
     ]
    },
    {
     "name": "stdout",
     "output_type": "stream",
     "text": [
      "Extracting datasets/cifar-10/cifar-10-python.tar.gz to datasets/cifar-10\n",
      "Files already downloaded and verified\n"
     ]
    }
   ],
   "source": [
    "cifar_mean = [0.491, 0.482, 0.447]\n",
    "cifar_std = [0.202, 0.199, 0.201]\n",
    "cifar_dim = 32\n",
    "\n",
    "cifar_min, cifar_max = get_clip_bounds(cifar_mean,\n",
    "                                       cifar_std,\n",
    "                                       cifar_dim)\n",
    "cifar_min = cifar_min.to(device)\n",
    "cifar_max = cifar_max.to(device)\n",
    "\n",
    "cifar_tf = transforms.Compose([\n",
    "    transforms.ToTensor(),\n",
    "    transforms.Normalize(\n",
    "        mean=cifar_mean,\n",
    "        std=cifar_std)])\n",
    "\n",
    "cifar_tf_train = transforms.Compose([\n",
    "    transforms.RandomCrop(\n",
    "        size=cifar_dim,\n",
    "        padding=4),\n",
    "    transforms.RandomHorizontalFlip(),\n",
    "    transforms.ToTensor(),\n",
    "    transforms.Normalize(\n",
    "        mean=cifar_mean,\n",
    "        std=cifar_std)])\n",
    "\n",
    "cifar_tf_inv = transforms.Compose([\n",
    "    transforms.Normalize(\n",
    "        mean=[0.0, 0.0, 0.0],\n",
    "        std=np.divide(1.0, cifar_std)),\n",
    "    transforms.Normalize(\n",
    "        mean=np.multiply(-1.0, cifar_mean),\n",
    "        std=[1.0, 1.0, 1.0])])\n",
    "\n",
    "cifar_temp = datasets.CIFAR10(root='datasets/cifar-10', train=True,\n",
    "                              download=True, transform=cifar_tf_train)\n",
    "cifar_train, cifar_val = random_split(cifar_temp, [40000, 10000])\n",
    "\n",
    "cifar_test = datasets.CIFAR10(root='datasets/cifar-10', train=False,\n",
    "                              download=True, transform=cifar_tf)"
   ]
  },
  {
   "cell_type": "markdown",
   "metadata": {
    "id": "BkWhlscHS6f5"
   },
   "source": [
    "10) Выполнить настройку и загрузку DataLoader\n",
    "\n",
    "batch_size = 64\n",
    "\n",
    "workers = 4\n"
   ]
  },
  {
   "cell_type": "code",
   "execution_count": 7,
   "metadata": {
    "colab": {
     "base_uri": "https://localhost:8080/"
    },
    "id": "_W1WZaUjRIJH",
    "outputId": "3bc594aa-8408-4d82-81d2-bf5b597e557a"
   },
   "outputs": [
    {
     "name": "stderr",
     "output_type": "stream",
     "text": [
      "/usr/local/lib/python3.10/dist-packages/torch/utils/data/dataloader.py:560: UserWarning: This DataLoader will create 4 worker processes in total. Our suggested max number of worker in current system is 2, which is smaller than what this DataLoader is going to create. Please be aware that excessive worker creation might get DataLoader running slow or even freeze, lower the worker number to avoid potential slowness/freeze if necessary.\n",
      "  warnings.warn(_create_warning_msg(\n"
     ]
    }
   ],
   "source": [
    "batch_size = 64\n",
    "workers = 4\n",
    "\n",
    "mnist_loader_train = DataLoader(mnist_train, batch_size=batch_size,\n",
    "                                shuffle=True, num_workers=workers)\n",
    "mnist_loader_val = DataLoader(mnist_val, batch_size=batch_size,\n",
    "                              shuffle=False, num_workers=workers)\n",
    "mnist_loader_test = DataLoader(mnist_test, batch_size=batch_size,\n",
    "                               shuffle=False, num_workers=workers)\n",
    "\n",
    "cifar_loader_train = DataLoader(cifar_train, batch_size=batch_size,\n",
    "                                shuffle=True, num_workers=workers)\n",
    "cifar_loader_val = DataLoader(cifar_val, batch_size=batch_size,\n",
    "                              shuffle=False, num_workers=workers)\n",
    "cifar_loader_test = DataLoader(cifar_test, batch_size=batch_size,\n",
    "                               shuffle=False, num_workers=workers)"
   ]
  },
  {
   "cell_type": "code",
   "execution_count": 8,
   "metadata": {
    "id": "b3kECUl8RNzE"
   },
   "outputs": [],
   "source": [
    "train_model = True\n",
    "\n",
    "epochs = 50\n",
    "epochs_nin = 100\n",
    "\n",
    "lr = 0.004\n",
    "lr_nin = 0.01\n",
    "lr_scale = 0.5\n",
    "\n",
    "momentum = 0.9\n",
    "\n",
    "print_step = 5\n",
    "\n",
    "deep_batch_size = 10\n",
    "deep_num_classes = 10\n",
    "deep_overshoot = 0.02\n",
    "deep_max_iters = 50\n",
    "\n",
    "deep_args = [deep_batch_size, deep_num_classes,\n",
    "             deep_overshoot, deep_max_iters]\n",
    "\n",
    "if not os.path.isdir('weights/deepfool'):\n",
    "    os.makedirs('weights/deepfool', exist_ok=True)\n",
    "\n",
    "if not os.path.isdir('weights/fgsm'):\n",
    "    os.makedirs('weights/fgsm', exist_ok=True)"
   ]
  },
  {
   "cell_type": "markdown",
   "metadata": {
    "id": "6j8tqrhATTll"
   },
   "source": [
    "11) Загрузить и оценить стойкость модели LeNet к FGSM и DeepFool атакам"
   ]
  },
  {
   "cell_type": "code",
   "execution_count": 9,
   "metadata": {
    "colab": {
     "base_uri": "https://localhost:8080/"
    },
    "id": "8P4r1lotRQbb",
    "outputId": "8f81bdaf-ede4-4e39-a70a-150a7d2bf24a"
   },
   "outputs": [
    {
     "name": "stdout",
     "output_type": "stream",
     "text": [
      "FGSM Test Error : 87.89%\n",
      "FGSM Robustness : 4.58e-01\n",
      "FGSM Time (All Images) : 0.29 s\n",
      "FGSM Time (Per Image) : 28.86 us\n",
      "\n",
      "DeepFool Test Error : 98.74%\n",
      "DeepFool Robustness : 9.64e-02\n",
      "DeepFool Time (All Images) : 193.32 s\n",
      "DeepFool Time (Per Image) : 19.33 ms\n"
     ]
    }
   ],
   "source": [
    "fgsm_eps = 0.6\n",
    "model = LeNet_MNIST().to(device)\n",
    "model.load_state_dict(torch.load('weights/clean/mnist_lenet.pth',map_location=torch.device('cpu')))\n",
    "evaluate_attack('mnist_lenet_fgsm.csv',\n",
    "                'results', device, model, mnist_loader_test,\n",
    "                mnist_min, mnist_max,fgsm_eps, is_fgsm=True)\n",
    "print('')\n",
    "\n",
    "evaluate_attack('mnist_lenet_deepfool.csv', 'results', device, model,\n",
    "mnist_loader_test, mnist_min, mnist_max, deep_args, is_fgsm=False)\n",
    "if device.type == 'cuda': torch.cuda.empty_cache()"
   ]
  },
  {
   "cell_type": "markdown",
   "metadata": {
    "id": "91fuJ3KCTLpn"
   },
   "source": [
    "12) Загрузить и оценить стойкость модели FC к FGSM и DeepFool атакам"
   ]
  },
  {
   "cell_type": "code",
   "execution_count": 10,
   "metadata": {
    "colab": {
     "base_uri": "https://localhost:8080/"
    },
    "id": "FQ3Yz8EzRSi8",
    "outputId": "cba76774-5566-4077-880c-4921e0d163e0"
   },
   "outputs": [
    {
     "name": "stdout",
     "output_type": "stream",
     "text": [
      "FGSM Test Error : 87.08%\n",
      "FGSM Robustness : 1.56e-01\n",
      "FGSM Time (All Images) : 0.15 s\n",
      "FGSM Time (Per Image) : 14.99 us\n",
      "\n",
      "DeepFool Test Error : 97.92%\n",
      "DeepFool Robustness : 6.78e-02\n",
      "DeepFool Time (All Images) : 141.81 s\n",
      "DeepFool Time (Per Image) : 14.18 ms\n"
     ]
    }
   ],
   "source": [
    "fgsm_eps = 0.2\n",
    "model = FC_500_150().to(device)\n",
    "model.load_state_dict(torch.load('weights/clean/mnist_fc.pth', map_location=torch.device('cpu')))\n",
    "\n",
    "evaluate_attack('mnist_fc_fgsm.csv', 'results', device, model,\n",
    "                mnist_loader_test, mnist_min, mnist_max, fgsm_eps, is_fgsm=True)\n",
    "print('')\n",
    "\n",
    "evaluate_attack('mnist_fc_deepfool.csv', 'results', device, model,\n",
    "mnist_loader_test, mnist_min, mnist_max, deep_args, is_fgsm=False)\n",
    "if device.type == 'cuda': torch.cuda.empty_cache()"
   ]
  }
 ],
 "metadata": {
  "accelerator": "GPU",
  "colab": {
   "authorship_tag": "ABX9TyM17oFHkk53ADtsetasqCrs",
   "gpuType": "T4",
   "include_colab_link": true,
   "provenance": []
  },
  "kernelspec": {
   "display_name": "Python 3 (ipykernel)",
   "language": "python",
   "name": "python3"
  },
  "language_info": {
   "codemirror_mode": {
    "name": "ipython",
    "version": 3
   },
   "file_extension": ".py",
   "mimetype": "text/x-python",
   "name": "python",
   "nbconvert_exporter": "python",
   "pygments_lexer": "ipython3",
   "version": "3.11.5"
  }
 },
 "nbformat": 4,
 "nbformat_minor": 1
}
